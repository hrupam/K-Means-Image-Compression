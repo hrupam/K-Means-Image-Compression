{
 "cells": [
  {
   "cell_type": "markdown",
   "metadata": {},
   "source": [
    "### Importing necessary libraries"
   ]
  },
  {
   "cell_type": "code",
   "execution_count": 6,
   "metadata": {},
   "outputs": [],
   "source": [
    "%matplotlib inline\n",
    "import os\n",
    "import numpy as np\n",
    "import matplotlib.pyplot as plt\n",
    "import matplotlib.image as image\n",
    "plt.style.use(\"ggplot\")\n",
    "\n",
    "from skimage import io\n",
    "from sklearn.cluster import KMeans,MiniBatchKMeans\n",
    "\n",
    "from ipywidgets import interact, interactive, fixed, interact_manual, IntSlider\n",
    "import ipywidgets as widgets\n",
    "\n",
    "from plot_utils import plot_utils //defined library to visualize color space"
   ]
  },
  {
   "cell_type": "code",
   "execution_count": 7,
   "metadata": {},
   "outputs": [],
   "source": [
    "plt.rcParams['figure.figsize'] = (20, 12)"
   ]
  },
  {
   "cell_type": "markdown",
   "metadata": {},
   "source": [
    "### Setting up the image directory"
   ]
  },
  {
   "cell_type": "code",
   "execution_count": 8,
   "metadata": {},
   "outputs": [],
   "source": [
    "image_dir='images/'"
   ]
  },
  {
   "cell_type": "markdown",
   "metadata": {},
   "source": [
    "### Applying the K-Means Clustering Algorithm to reduce the colors and thereby compressing the size of the image and visualizing it."
   ]
  },
  {
   "cell_type": "markdown",
   "metadata": {},
   "source": [
    "### Choose the image using the drop-down list. Select the value of k using the slider given below."
   ]
  },
  {
   "cell_type": "code",
   "execution_count": 20,
   "metadata": {},
   "outputs": [
    {
     "data": {
      "application/vnd.jupyter.widget-view+json": {
       "model_id": "49eb9dc7c8954a10bef43a32b42437cc",
       "version_major": 2,
       "version_minor": 0
      },
      "text/plain": [
       "interactive(children=(Dropdown(description='Image', options=('1-Saint-Basils-Cathedral.jpg', '2-new-york-skyli…"
      ]
     },
     "metadata": {},
     "output_type": "display_data"
    }
   ],
   "source": [
    "@interact\n",
    "def image_compression(Image=os.listdir(image_dir), k=IntSlider(min=1,max=256,value=15,\n",
    "                                                              continuous_update=False,layout=dict(width='100%'))):\n",
    "    \n",
    "    input_img=io.imread(image_dir+Image)\n",
    "    image_data=(input_img/255.0).reshape(-1,3)\n",
    "    \n",
    "    kmeans=MiniBatchKMeans(k).fit(image_data)\n",
    "    pred_image=kmeans.predict(image_data)\n",
    "    k_colors=kmeans.cluster_centers_[pred_image]\n",
    "    k_image=np.reshape(k_colors, input_img.shape) #Image with k colors\n",
    "    \n",
    "    \n",
    "    #Visualing the color space\n",
    "    x=plot_utils(image_data,title='ORIGINAL IMAGE COLOR SPACE (16,777,216 colors)')\n",
    "    x.colorSpace()\n",
    "    \n",
    "    y=plot_utils(image_data,colors=k_colors,title='REDUCED IMAGE COLOR SPACE (k colors)')\n",
    "    y.colorSpace()\n",
    "    \n",
    "    \n",
    "    #Visualizing the actual and compressed image\n",
    "    fig, (ax1,ax2)=plt.subplots(1,2)\n",
    "    plt.suptitle('Original Image VS Compressed Image',fontsize=24)\n",
    "    \n",
    "    ax1.set_title('Original Image (16,777,216 colors)')\n",
    "    ax1.set_xticks([])\n",
    "    ax1.set_yticks([])\n",
    "    ax1.imshow(input_img)\n",
    "    \n",
    "    ax2.set_title('Compressed/Reduced Image (k colors)')\n",
    "    ax2.set_xticks([])\n",
    "    ax2.set_yticks([])\n",
    "    ax2.imshow(k_image)\n",
    "    \n",
    "    plt.subplots_adjust(top=0.87)\n",
    "    plt.show()"
   ]
  },
  {
   "cell_type": "code",
   "execution_count": null,
   "metadata": {},
   "outputs": [],
   "source": []
  },
  {
   "cell_type": "code",
   "execution_count": null,
   "metadata": {},
   "outputs": [],
   "source": []
  }
 ],
 "metadata": {
  "kernelspec": {
   "display_name": "Python 3",
   "language": "python",
   "name": "python3"
  },
  "language_info": {
   "codemirror_mode": {
    "name": "ipython",
    "version": 3
   },
   "file_extension": ".py",
   "mimetype": "text/x-python",
   "name": "python",
   "nbconvert_exporter": "python",
   "pygments_lexer": "ipython3",
   "version": "3.7.6"
  }
 },
 "nbformat": 4,
 "nbformat_minor": 4
}
